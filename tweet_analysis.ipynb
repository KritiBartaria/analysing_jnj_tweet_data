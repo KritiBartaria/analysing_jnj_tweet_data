{
 "cells": [
  {
   "cell_type": "markdown",
   "metadata": {
    "id": "ck-G4ehLiNbx"
   },
   "source": [
    "# Project: Viral Tweet Data about Johnson & Johnson-Covid 19 Vaccine\n",
    "\n",
    "\n",
    "\n",
    "\n",
    "\n",
    "\n"
   ]
  },
  {
   "cell_type": "markdown",
   "metadata": {
    "id": "-_HmbB2DmlSB"
   },
   "source": [
    "## INTRODUCTION\n",
    "\n",
    "This project builds and cleans a dataset around Covid-19 and the Johnson & Johnson vaccine, focusing on one week before and after the CDC and other health agencies temporarily pausing the use of the vaccine to examine the likelihood of a rare but severe side effect, and looks at simple (and future) opportunties to analyze the dataset.\n"
   ]
  },
  {
   "cell_type": "markdown",
   "metadata": {
    "id": "KCR1YAOQibXz"
   },
   "source": [
    "## PROJECT MATERIALS\n",
    "\n",
    "- Jupyter Notebooks: Project Dcoumentation (including workload distribution and distribution plan); Tweet Collection,  Pandas dataframe\n",
    "- Dataset: Tweets.txt, JnJ_dataframe.csv\n",
    "- Presentation\n",
    "- Readme File"
   ]
  },
  {
   "cell_type": "markdown",
   "metadata": {
    "id": "JUkqqHQUVOY1"
   },
   "source": [
    "## CODE DOCUMENTATION\n",
    "\n"
   ]
  },
  {
   "cell_type": "markdown",
   "metadata": {
    "id": "cq6D45iznz3s"
   },
   "source": [
    "### PULLING DATA USING TWITTER API\n",
    "\n",
    "*   Import the required libraries and set desired options."
   ]
  },
  {
   "cell_type": "code",
   "execution_count": 1,
   "metadata": {
    "id": "gUfAel_OiI73"
   },
   "outputs": [],
   "source": [
    "import requests\n",
    "import os\n",
    "import json\n",
    "import pandas as pd\n",
    "import time\n",
    "from collections import defaultdict\n",
    "\n",
    "pd.set_option('display.max_colwidth', None)\n",
    "\n",
    "#Create a new folder to store/access all the data files.\n",
    "os.makedirs(\"tweetdata\", exist_ok=True) "
   ]
  },
  {
   "cell_type": "markdown",
   "metadata": {
    "id": "YFJ81QIanBxi"
   },
   "source": [
    "*   To establish a connection with 'Twitter Search API', we did authentication with a single Bearer token.\n",
    "*   To complete this step, put your 'BEARER_TOKEN' in the place of 'XXXX'."
   ]
  },
  {
   "cell_type": "code",
   "execution_count": 2,
   "metadata": {
    "id": "37UJ2CCYmj8j"
   },
   "outputs": [],
   "source": [
    "# Set environment variables\n",
    "os.environ['BEARER_TOKEN'] = 'XXXX'\n",
    "\n",
    "# Get environment variables\n",
    "bearer_token = os.environ.get(\"BEARER_TOKEN\")\n",
    "search_url = \"https://api.twitter.com/2/tweets/search/all\""
   ]
  },
  {
   "cell_type": "markdown",
   "metadata": {
    "id": "VZ2temLqnLqH"
   },
   "source": [
    "-    Created a search query to filter tweets around Johnson & Johnson Covid19-vaccination topic. \n",
    "-  Here we have used message keywords (JNJ, johnsonandjohnson, covid19) and  hashtags(#Vaxed, #COVID19) combined into a query with boolean logic and parentheses to help refine the queries matching behavior.\n",
    "\n",
    "-  Here we provide a short description of search parameters used below that are useful for the purpose of this project. For the full description and the other types of data that can be pulled through API, please refer to https://developer.twitter.com/en/docs/twitter-api/fields  \n",
    "  \n",
    "  -   \"tweet.fields\":\n",
    "    - author_id: unique identifier for Twitter user \n",
    "    - created_at: creation time of the tweet.\n",
    "    - public_metrics: public engagement metrics for the Tweet at the time the data was pulled, including likes, retweet, quote-retweet and reply counts.  \n",
    "  \n",
    "  - \"user.fields\":\n",
    "    - description: The text of this user's profile description (also known as bio)\n",
    "    - location: The location specified in the user's profile, if the user provided one.\n",
    "    - pinned_tweet_id: Unique identifier of this user's pinned Tweet.\n",
    "\n",
    "  - \"place.fields\": (note often time this information is missing)\n",
    "    - country: The full-length name of the country this place belongs to.\n",
    "    - geo: contains geo location info (e.g., latititude) in GeoJSON format.\n",
    "\n",
    "\n"
   ]
  },
  {
   "cell_type": "code",
   "execution_count": 3,
   "metadata": {
    "id": "K6h3tZQNmknZ"
   },
   "outputs": [],
   "source": [
    "query_params = {\"query\": \"(JNJ (#Vaxed OR #COVID19 OR corona OR COVID OR covid19 OR vaccination)) OR (johnsonandjohnson (#Vaxed OR #COVID19 OR corona OR COVID OR covid19 OR vaccination)) -is:retweet lang:en\", \"max_results\":\"500\",\n",
    "                \"start_time\": \"2021-04-07T00:00:00Z\",\n",
    "                \"end_time\": \"2021-04-20T23:00:00Z\", \n",
    "                \"expansions\": \"author_id\",\n",
    "                \"tweet.fields\": \"author_id,created_at,lang,possibly_sensitive,public_metrics,text\",\n",
    "                \"user.fields\": \"created_at,description,location,name,pinned_tweet_id,public_metrics,username\",\n",
    "                \"media.fields\": \"url,public_metrics\",\n",
    "                \"place.fields\": \"contained_within,country,country_code,full_name,geo,id,name,place_type\"}"
   ]
  },
  {
   "cell_type": "markdown",
   "metadata": {
    "id": "V18Fp4f6nRbZ"
   },
   "source": [
    "*   Sending API Requests, to retrieve matching tweets between 2021-04-07 to 2021-04-20. This will likely generate more data than can be returned in a single response, hence, we have used pagination to get complete result.\n",
    "*   As there are subsequent requests to twitter API, this processing will take approximately 20sec to complete. In the end it will display the total number of matching tweets retrieved as a result.\n",
    "*   We are storing the API response in ‘tweets.txt’ file. In the next step, we will use this file to apply transformation and make pandas dataframes.\n"
   ]
  },
  {
   "cell_type": "code",
   "execution_count": 4,
   "metadata": {
    "id": "4zm73eITmlCq"
   },
   "outputs": [],
   "source": [
    "def main():\n",
    "    \n",
    "    FILE = 'Tweets.txt'\n",
    "\n",
    "    def create_headers(bearer_token):\n",
    "        headers = {\"Authorization\": \"Bearer {}\".format(bearer_token)}\n",
    "        return headers\n",
    "\n",
    "\n",
    "    def connect_to_endpoint(url, headers, params):\n",
    "        response = requests.request(\"GET\", search_url, headers=headers, params=params)\n",
    "#        print(response.status_code)\n",
    "        if response.status_code != 200:\n",
    "            raise Exception(response.status_code, response.text)\n",
    "        return response.json()\n",
    "\n",
    "    headers = create_headers(bearer_token)\n",
    "\n",
    "    json_response = connect_to_endpoint(search_url, headers, query_params)\n",
    "\n",
    "    count=0\n",
    "    total_tweets= 0\n",
    "    count_current = 0\n",
    "\n",
    "    with open('tweetdata/' + FILE, mode='w') as json_file:\n",
    "        json_file.write(json.dumps(json_response))\n",
    "        json_file.write(\"\\n\") \n",
    "        count=count+ count_current\n",
    "\n",
    "    while json_response[\"meta\"][\"next_token\"] :\n",
    "        if 'result_count' in json_response[\"meta\"]:\n",
    "            count_current = json_response[\"meta\"][\"result_count\"]\n",
    "    \n",
    "        time.sleep(1)\n",
    "        \n",
    "        query_params[\"next_token\"] = json_response[\"meta\"][\"next_token\"]\n",
    "        json_response = connect_to_endpoint(search_url, headers, query_params)\n",
    "        count=count + count_current\n",
    "        \n",
    "        with open('tweetdata/' + FILE, mode='a') as json_file:\n",
    "            json_file.write(json.dumps(json_response))\n",
    "            json_file.write(\"\\n\")\n",
    "        \n",
    "        if 'next_token' in json_response[\"meta\"]:\n",
    "            continue\n",
    "        else:\n",
    "            total_tweets = count\n",
    "            print('Total number of collected tweets: ', total_tweets)\n",
    "            break"
   ]
  },
  {
   "cell_type": "markdown",
   "metadata": {
    "id": "QUMek10GnmMZ"
   },
   "source": [
    "*   Driver code the pull request."
   ]
  },
  {
   "cell_type": "code",
   "execution_count": 5,
   "metadata": {
    "id": "9GcYky65mlQx"
   },
   "outputs": [
    {
     "name": "stdout",
     "output_type": "stream",
     "text": [
      "Total number of collected tweets:  10236\n"
     ]
    }
   ],
   "source": [
    "if __name__ == \"__main__\":\n",
    "    main()"
   ]
  },
  {
   "cell_type": "markdown",
   "metadata": {
    "id": "iumti9K0n5pK"
   },
   "source": [
    "*   Identify the fields we want to extract for the two datasets that will later be combined to form our final dataset.\n",
    "*   The dictionary within the list is to help us handle the nested elements of the json dictionary."
   ]
  },
  {
   "cell_type": "code",
   "execution_count": 6,
   "metadata": {
    "id": "SxuFQzJrtvh_"
   },
   "outputs": [],
   "source": [
    "tweet_data_fields = ['author_id', 'created_at', 'id', {'public_metrics': ['retweet_count', 'reply_count', 'like_count', 'quote_count']}, 'text'] \n",
    "user_data_fields = ['id','created_at', 'username', 'pinned_tweet_id', 'name', 'description', 'location', {'public_metrics': ['followers_count', 'following_count', 'tweet_count', 'listed_count']}]"
   ]
  },
  {
   "cell_type": "markdown",
   "metadata": {
    "id": "facaGQ94vyQJ"
   },
   "source": [
    "### Identify Fields and Creating Panda Dataframe\n",
    "\n",
    "*   Loops to go through the JSON dictionary responses."
   ]
  },
  {
   "cell_type": "code",
   "execution_count": 7,
   "metadata": {
    "id": "VGP04fuGv2o2"
   },
   "outputs": [],
   "source": [
    "def json_to_tweet_dict(dic, cols, json_dic):\n",
    "    for tweet in json_dic:\n",
    "        if tweet['lang'] != 'en':\n",
    "            continue\n",
    "        for col in cols:\n",
    "            if type(col) is dict:\n",
    "                for item in col:\n",
    "                    for key in tweet[item]:\n",
    "                        dic[key].append(tweet[item][key])\n",
    "            elif col == 'created_at':\n",
    "                dic['tweet_created_at'].append(tweet[col])\n",
    "            else:\n",
    "                dic[col].append(tweet[col]) \n",
    "                \n",
    "def json_to_user_dict(dic, cols, json_dic):\n",
    "    for user in json_dic:\n",
    "        for col in cols:\n",
    "            if type(col) is dict:\n",
    "                for item in col:\n",
    "                    for key in user[item]:\n",
    "                        dic[key].append(user[item][key])\n",
    "            elif col == 'location':\n",
    "                dic[col].append(user.get(col, 'NA'))\n",
    "            elif col == 'pinned_tweet_id':\n",
    "                dic[col].append(user.get(col, 'NA'))\n",
    "            elif col == 'id':\n",
    "                dic['author_id'].append(user[col])\n",
    "            elif col == 'created_at':\n",
    "                dic['account_created_at'].append(user[col])\n",
    "            else:\n",
    "                dic[col].append(user[col])"
   ]
  },
  {
   "cell_type": "markdown",
   "metadata": {
    "id": "xEY7xTjHv9gG"
   },
   "source": [
    "### Parse text file"
   ]
  },
  {
   "cell_type": "code",
   "execution_count": 8,
   "metadata": {
    "id": "Vrk4fWbewCgp"
   },
   "outputs": [],
   "source": [
    "with open('tweetdata/Tweets.txt', 'r', encoding = 'utf8') as f:\n",
    "    lines = f.readlines()\n",
    "    tweet_dict = defaultdict(list)\n",
    "    user_dict =defaultdict(list)\n",
    "    tweet_count = 0\n",
    "    for line in lines:\n",
    "        response = json.dumps(json.loads(line), indent = 4)\n",
    "        json_dic = json.loads(response)\n",
    "        for datatype in json_dic:\n",
    "            if datatype == 'data':\n",
    "                #use datacols\n",
    "                json_to_tweet_dict(tweet_dict, tweet_data_fields, json_dic[datatype])\n",
    "                tweet_count += len(json_dic[datatype])\n",
    "            elif datatype == 'includes':\n",
    "                json_to_user_dict(user_dict, user_data_fields, json_dic[datatype]['users'])\n",
    "            else:\n",
    "                continue\n",
    "\n"
   ]
  },
  {
   "cell_type": "markdown",
   "metadata": {
    "id": "Wni4Cac_wGDM"
   },
   "source": [
    "### Create Panda Dataframes and inital cleaning"
   ]
  },
  {
   "cell_type": "code",
   "execution_count": null,
   "metadata": {
    "id": "RICpP5O9wHO8"
   },
   "outputs": [],
   "source": [
    "tweets = pd.DataFrame.from_dict(tweet_dict)\n",
    "users = pd.DataFrame.from_dict(user_dict)"
   ]
  },
  {
   "cell_type": "markdown",
   "metadata": {
    "id": "6wlpvEWrwKlS"
   },
   "source": [
    "*   Merge and clean duplicates."
   ]
  },
  {
   "cell_type": "code",
   "execution_count": null,
   "metadata": {
    "id": "UGTIUr04wLCt"
   },
   "outputs": [],
   "source": [
    "jnj_df = tweets.merge(users, how = 'inner', on = 'author_id').drop_duplicates(subset = 'text', ignore_index = True)"
   ]
  },
  {
   "cell_type": "markdown",
   "metadata": {
    "id": "MTfzxnM0wTVs"
   },
   "source": [
    "*   Drop columns rename remaining."
   ]
  },
  {
   "cell_type": "code",
   "execution_count": null,
   "metadata": {
    "id": "_6Y84658wVjd"
   },
   "outputs": [],
   "source": [
    "jnj_df = jnj_df.drop(columns = ['pinned_tweet_id', 'listed_count'])\n",
    "jnj_df = jnj_df.rename(columns = {'author_id': 'author id', 'tweet_created_at': 'tweet created at', 'id' : 'tweet id', 'retweet_count' : 'retweet count', 'reply_count': 'reply count', 'like_count': 'like count', 'quote_count' : 'quote count', 'text' : 'tweet text', 'account_created_at': 'account created at', 'followers_count': 'followers count', 'following_count':'following count', 'tweet_count': 'tweet count'} )"
   ]
  },
  {
   "cell_type": "markdown",
   "metadata": {
    "id": "bSGF-HJQwXo3"
   },
   "source": [
    "*   Order cols in a more logical way."
   ]
  },
  {
   "cell_type": "code",
   "execution_count": null,
   "metadata": {
    "id": "MmGP2WtewcV_"
   },
   "outputs": [],
   "source": [
    "ordered_cols = ['author id', 'tweet id', 'tweet created at', 'tweet text', 'retweet count', 'reply count', 'like count', 'quote count', 'name', 'username', 'location', 'description', 'account created at', 'followers count', 'following count', 'tweet count']\n",
    "jnj_df = jnj_df[ordered_cols]"
   ]
  },
  {
   "cell_type": "markdown",
   "metadata": {
    "id": "FOYEa06dwgsk"
   },
   "source": [
    "*   Pretty date time."
   ]
  },
  {
   "cell_type": "code",
   "execution_count": null,
   "metadata": {
    "id": "Gw9V50VQwiFq"
   },
   "outputs": [],
   "source": [
    "jnj_df['tweet created at'] = pd.to_datetime(jnj_df['tweet created at']).dt.tz_convert(None)\n",
    "jnj_df['account created at'] = pd.to_datetime(jnj_df['account created at']).dt.tz_convert(None)"
   ]
  },
  {
   "cell_type": "markdown",
   "metadata": {
    "id": "gF42TLDgXZ8h"
   },
   "source": [
    "*   Store the final dataframe as a CSV file placed inside the 'tweetdata' folder."
   ]
  },
  {
   "cell_type": "code",
   "execution_count": null,
   "metadata": {
    "id": "Xwl_BzdTXSme"
   },
   "outputs": [],
   "source": [
    "jnj_df.to_csv (r'tweetdata/JnJ_dataframe.csv', index = False, header=True)"
   ]
  },
  {
   "cell_type": "markdown",
   "metadata": {
    "id": "BhX3u2qfooqj"
   },
   "source": [
    "## HOW THE DATASET CAN BE USED"
   ]
  },
  {
   "cell_type": "markdown",
   "metadata": {
    "id": "l8KlU71boTrQ"
   },
   "source": [
    "### Search tweets for specific words or hashtags"
   ]
  },
  {
   "cell_type": "code",
   "execution_count": null,
   "metadata": {
    "id": "Vt4bhkPa-1tS",
    "outputId": "2bb8b023-4f03-4f4c-c06b-9b60c9b9e240"
   },
   "outputs": [
    {
     "data": {
      "text/html": [
       "<div>\n",
       "<style scoped>\n",
       "    .dataframe tbody tr th:only-of-type {\n",
       "        vertical-align: middle;\n",
       "    }\n",
       "\n",
       "    .dataframe tbody tr th {\n",
       "        vertical-align: top;\n",
       "    }\n",
       "\n",
       "    .dataframe thead th {\n",
       "        text-align: right;\n",
       "    }\n",
       "</style>\n",
       "<table border=\"1\" class=\"dataframe\">\n",
       "  <thead>\n",
       "    <tr style=\"text-align: right;\">\n",
       "      <th></th>\n",
       "      <th>author id</th>\n",
       "      <th>tweet id</th>\n",
       "      <th>tweet created at</th>\n",
       "      <th>tweet text</th>\n",
       "      <th>retweet count</th>\n",
       "      <th>reply count</th>\n",
       "      <th>like count</th>\n",
       "      <th>quote count</th>\n",
       "      <th>name</th>\n",
       "      <th>username</th>\n",
       "      <th>location</th>\n",
       "      <th>description</th>\n",
       "      <th>account created at</th>\n",
       "      <th>followers count</th>\n",
       "      <th>following count</th>\n",
       "      <th>tweet count</th>\n",
       "    </tr>\n",
       "  </thead>\n",
       "  <tbody>\n",
       "    <tr>\n",
       "      <th>45</th>\n",
       "      <td>27323975</td>\n",
       "      <td>1379635409571958787</td>\n",
       "      <td>2021-04-07 03:21:28</td>\n",
       "      <td>One &amp;amp; Done. #grateful #vaccinated  #JohnsonandJohnson #COVID19 #vaccines #stopCOVID https://t.co/04aJwVW8sD</td>\n",
       "      <td>0</td>\n",
       "      <td>0</td>\n",
       "      <td>5</td>\n",
       "      <td>0</td>\n",
       "      <td>Angela Jacobs WFTV</td>\n",
       "      <td>AngelaJacobsTV</td>\n",
       "      <td>Orlando, FL</td>\n",
       "      <td>2x Emmy Winner @WFTV Reporter🎤 Sports Anchor alum ⚾️ 🏈 Cancer Survivor 💗 RTs 🚫 endorsements / Story idea?angela.jacobs@wftv.com @Insta @AngelaJacobsWFTV</td>\n",
       "      <td>2009-03-28 22:33:26</td>\n",
       "      <td>2006</td>\n",
       "      <td>802</td>\n",
       "      <td>9460</td>\n",
       "    </tr>\n",
       "  </tbody>\n",
       "</table>\n",
       "</div>"
      ],
      "text/plain": [
       "   author id             tweet id    tweet created at  \\\n",
       "45  27323975  1379635409571958787 2021-04-07 03:21:28   \n",
       "\n",
       "                                                                                                         tweet text  \\\n",
       "45  One &amp; Done. #grateful #vaccinated  #JohnsonandJohnson #COVID19 #vaccines #stopCOVID https://t.co/04aJwVW8sD   \n",
       "\n",
       "    retweet count  reply count  like count  quote count                name  \\\n",
       "45              0            0           5            0  Angela Jacobs WFTV   \n",
       "\n",
       "          username     location  \\\n",
       "45  AngelaJacobsTV  Orlando, FL   \n",
       "\n",
       "                                                                                                                                                 description  \\\n",
       "45  2x Emmy Winner @WFTV Reporter🎤 Sports Anchor alum ⚾️ 🏈 Cancer Survivor 💗 RTs 🚫 endorsements / Story idea?angela.jacobs@wftv.com @Insta @AngelaJacobsWFTV   \n",
       "\n",
       "    account created at  followers count  following count  tweet count  \n",
       "45 2009-03-28 22:33:26             2006              802         9460  "
      ]
     },
     "execution_count": 16,
     "metadata": {
      "tags": []
     },
     "output_type": "execute_result"
    }
   ],
   "source": [
    "#search tweets for specific words or hashtags\n",
    "jnj_df[jnj_df['tweet text'].str.contains(\"#grateful\")]"
   ]
  },
  {
   "cell_type": "markdown",
   "metadata": {
    "id": "_ViAMsfeoZt8"
   },
   "source": [
    "### Filter data with users with certain amount of following\n"
   ]
  },
  {
   "cell_type": "code",
   "execution_count": null,
   "metadata": {
    "id": "AQjjYpxHpaBz",
    "outputId": "46f3f958-efb0-437f-9e62-b57f19841708"
   },
   "outputs": [
    {
     "data": {
      "text/html": [
       "<div>\n",
       "<style scoped>\n",
       "    .dataframe tbody tr th:only-of-type {\n",
       "        vertical-align: middle;\n",
       "    }\n",
       "\n",
       "    .dataframe tbody tr th {\n",
       "        vertical-align: top;\n",
       "    }\n",
       "\n",
       "    .dataframe thead th {\n",
       "        text-align: right;\n",
       "    }\n",
       "</style>\n",
       "<table border=\"1\" class=\"dataframe\">\n",
       "  <thead>\n",
       "    <tr style=\"text-align: right;\">\n",
       "      <th></th>\n",
       "      <th>author id</th>\n",
       "      <th>tweet id</th>\n",
       "      <th>tweet created at</th>\n",
       "      <th>tweet text</th>\n",
       "      <th>retweet count</th>\n",
       "      <th>reply count</th>\n",
       "      <th>like count</th>\n",
       "      <th>quote count</th>\n",
       "      <th>name</th>\n",
       "      <th>username</th>\n",
       "      <th>location</th>\n",
       "      <th>description</th>\n",
       "      <th>account created at</th>\n",
       "      <th>followers count</th>\n",
       "      <th>following count</th>\n",
       "      <th>tweet count</th>\n",
       "    </tr>\n",
       "  </thead>\n",
       "  <tbody>\n",
       "    <tr>\n",
       "      <th>3</th>\n",
       "      <td>1353222852</td>\n",
       "      <td>1379880773491232770</td>\n",
       "      <td>2021-04-07 19:36:28</td>\n",
       "      <td>#Hialeah secures partnership to distribute #Moderna #CovidVaccine as #FEMA sites move to only offer #JohnsonandJohnson @ADelgadoT51 @Telemundo51 #vaccinenews https://t.co/2Ol9hBzXqz https://t.co/dlgHOlgjAq</td>\n",
       "      <td>0</td>\n",
       "      <td>0</td>\n",
       "      <td>0</td>\n",
       "      <td>0</td>\n",
       "      <td>JRodriguez</td>\n",
       "      <td>JRodzMIA</td>\n",
       "      <td>MIAFL</td>\n",
       "      <td>Senior Assignment Editor @Telemundo51 ... RTs are not endorsements</td>\n",
       "      <td>2013-04-15 02:11:21</td>\n",
       "      <td>1268</td>\n",
       "      <td>738</td>\n",
       "      <td>12418</td>\n",
       "    </tr>\n",
       "    <tr>\n",
       "      <th>5</th>\n",
       "      <td>484882506</td>\n",
       "      <td>1379877798039457795</td>\n",
       "      <td>2021-04-07 19:24:38</td>\n",
       "      <td>Today, the Corpus Christi - Nueces County Public Health District will administer 1,000 #JohnsonAndJohnson COVID-19 vaccines beginning at 9 AM at the Richard M. Borchard Regional Fairgrounds. 1st &amp;amp; 2nd doses of #Moderna vaccines are also available 9 AM-5 PM. Drop-ins are welcome. https://t.co/bvH1Xb2BlK</td>\n",
       "      <td>0</td>\n",
       "      <td>0</td>\n",
       "      <td>0</td>\n",
       "      <td>0</td>\n",
       "      <td>CC Public Works</td>\n",
       "      <td>PublicWorksCC</td>\n",
       "      <td>Corpus Christi, TX</td>\n",
       "      <td>The official page for the City of Corpus Christi's Engineering Services and Street Operations departments.</td>\n",
       "      <td>2012-02-06 16:02:31</td>\n",
       "      <td>1651</td>\n",
       "      <td>56</td>\n",
       "      <td>2401</td>\n",
       "    </tr>\n",
       "    <tr>\n",
       "      <th>10</th>\n",
       "      <td>32135940</td>\n",
       "      <td>1379872327492640771</td>\n",
       "      <td>2021-04-07 19:02:54</td>\n",
       "      <td>2:00 PM Update: There are still Johnson &amp;amp; Johnson COVID-19 vaccines available for those 18 and up. Drop-ins are welcome. No appointment needed. #JohnsonandJohnson #COVID19Vaccine #OneAndDone https://t.co/iDvtcBhjdh</td>\n",
       "      <td>5</td>\n",
       "      <td>0</td>\n",
       "      <td>9</td>\n",
       "      <td>0</td>\n",
       "      <td>City of Corpus Christi</td>\n",
       "      <td>cityofcc</td>\n",
       "      <td>Corpus Christi, TX</td>\n",
       "      <td>Official Twitter page for the City of Corpus Christi.</td>\n",
       "      <td>2009-04-16 20:15:21</td>\n",
       "      <td>20220</td>\n",
       "      <td>268</td>\n",
       "      <td>16770</td>\n",
       "    </tr>\n",
       "    <tr>\n",
       "      <th>11</th>\n",
       "      <td>32135940</td>\n",
       "      <td>1379843720254734338</td>\n",
       "      <td>2021-04-07 17:09:13</td>\n",
       "      <td>12:00 PM Update: There are still #JohnsonAndJohnson COVID-19 vaccines available. Drop-ins are welcome. No appointment needed. #OneAndDone\\n\\nWe also still have the #Moderna COVID-19 vaccine available. If it's been 28 days since your 1st dose, head on over! https://t.co/iDvtcBhjdh</td>\n",
       "      <td>4</td>\n",
       "      <td>0</td>\n",
       "      <td>4</td>\n",
       "      <td>0</td>\n",
       "      <td>City of Corpus Christi</td>\n",
       "      <td>cityofcc</td>\n",
       "      <td>Corpus Christi, TX</td>\n",
       "      <td>Official Twitter page for the City of Corpus Christi.</td>\n",
       "      <td>2009-04-16 20:15:21</td>\n",
       "      <td>20220</td>\n",
       "      <td>268</td>\n",
       "      <td>16770</td>\n",
       "    </tr>\n",
       "    <tr>\n",
       "      <th>12</th>\n",
       "      <td>32135940</td>\n",
       "      <td>1379790923782033411</td>\n",
       "      <td>2021-04-07 13:39:26</td>\n",
       "      <td>Today, the Corpus Christi - Nueces County Public Health District will administer 1,000 #JohnsonAndJohnson COVID-19 vaccines beginning at 9 AM at the Richard M. Borchard Regional Fairgrounds. 1st &amp;amp; 2nd doses of #Moderna vaccines are also available 9 AM-5 PM. Drop-ins are welcome. https://t.co/5xM2kLImbW</td>\n",
       "      <td>9</td>\n",
       "      <td>0</td>\n",
       "      <td>5</td>\n",
       "      <td>2</td>\n",
       "      <td>City of Corpus Christi</td>\n",
       "      <td>cityofcc</td>\n",
       "      <td>Corpus Christi, TX</td>\n",
       "      <td>Official Twitter page for the City of Corpus Christi.</td>\n",
       "      <td>2009-04-16 20:15:21</td>\n",
       "      <td>20220</td>\n",
       "      <td>268</td>\n",
       "      <td>16770</td>\n",
       "    </tr>\n",
       "    <tr>\n",
       "      <th>15</th>\n",
       "      <td>317624806</td>\n",
       "      <td>1379859669691285518</td>\n",
       "      <td>2021-04-07 18:12:36</td>\n",
       "      <td>I didn't throw away my shot. One and done. For those like me in Group 5 who became eligible today, the @DukeHealth system has lots of #JohnsonandJohnson #vaccine appointments this week and beyond.\\n\\n#GetVaccinated #COVID19 https://t.co/zh9H6abGYc</td>\n",
       "      <td>0</td>\n",
       "      <td>0</td>\n",
       "      <td>1</td>\n",
       "      <td>0</td>\n",
       "      <td>Dustin Ingalls</td>\n",
       "      <td>punstiningalls</td>\n",
       "      <td>Raleigh, NC</td>\n",
       "      <td>UNC '07. Native upstate NYer living in Raleigh over 26 years. Puns. Politics. Yankees ⚾. KISS. Musicals. Bloody marys. @nclcv comms.</td>\n",
       "      <td>2011-06-15 06:37:05</td>\n",
       "      <td>1017</td>\n",
       "      <td>951</td>\n",
       "      <td>14787</td>\n",
       "    </tr>\n",
       "    <tr>\n",
       "      <th>16</th>\n",
       "      <td>49873766</td>\n",
       "      <td>1379857664461639685</td>\n",
       "      <td>2021-04-07 18:04:38</td>\n",
       "      <td>One and done.    💉 \\n\\n#vaccine #covid #covid19 #jnj #jj #janssen #백신 #CVS #USA https://t.co/gqpf8LKOIB</td>\n",
       "      <td>0</td>\n",
       "      <td>0</td>\n",
       "      <td>0</td>\n",
       "      <td>0</td>\n",
       "      <td>Richard Ward</td>\n",
       "      <td>zeampzpvy</td>\n",
       "      <td>플로리다 (Florida, USA)</td>\n",
       "      <td>Performing magic in the cloud as executive editor @ ReadLeft. Author, scientist, hacker. I'm big in Korea ZE스앰프.</td>\n",
       "      <td>2009-06-23 03:39:59</td>\n",
       "      <td>1526</td>\n",
       "      <td>958</td>\n",
       "      <td>11811</td>\n",
       "    </tr>\n",
       "    <tr>\n",
       "      <th>18</th>\n",
       "      <td>20457806</td>\n",
       "      <td>1379856610068205577</td>\n",
       "      <td>2021-04-07 18:00:26</td>\n",
       "      <td>\"I'm a Johns Hopkins-trained epidemiologist, and I couldn't even navigate the system.\"—Dr. Debra Furr-Holden on her personal experience with racial discrepancies during #COVID19. See how #JNJ is mobilizing to address inequities like this: https://t.co/XoqIcj5qzR #WorldHealthDay https://t.co/3AYXF0UWLT</td>\n",
       "      <td>7</td>\n",
       "      <td>9</td>\n",
       "      <td>29</td>\n",
       "      <td>2</td>\n",
       "      <td>Johnson &amp; Johnson</td>\n",
       "      <td>JNJNews</td>\n",
       "      <td>NA</td>\n",
       "      <td>At Johnson &amp; Johnson, we blend heart, science and ingenuity to profoundly change the trajectory of health for humanity. Follow us to learn more and connect.</td>\n",
       "      <td>2009-02-09 19:12:13</td>\n",
       "      <td>232043</td>\n",
       "      <td>2467</td>\n",
       "      <td>14738</td>\n",
       "    </tr>\n",
       "    <tr>\n",
       "      <th>21</th>\n",
       "      <td>119084466</td>\n",
       "      <td>1379837273953472517</td>\n",
       "      <td>2021-04-07 16:43:36</td>\n",
       "      <td>How do the Pfizer, Moderna and J&amp;amp;J vaccines compare on efficacy and side effects? https://t.co/aLKjvaJxTr\\n\\n#vaccine #covidvaccine #covid19 #pfizer #moderna #jandj #johnsonandjohnson #sideeffects #efficacy #vaccinesideeffects</td>\n",
       "      <td>0</td>\n",
       "      <td>0</td>\n",
       "      <td>1</td>\n",
       "      <td>0</td>\n",
       "      <td>ConsumerLab.com</td>\n",
       "      <td>ConsumerLab</td>\n",
       "      <td>New York</td>\n",
       "      <td>http://t.co/1baEDHXNkR reports on the quality of health and nutrition products.</td>\n",
       "      <td>2010-03-02 16:36:29</td>\n",
       "      <td>2880</td>\n",
       "      <td>79</td>\n",
       "      <td>2370</td>\n",
       "    </tr>\n",
       "    <tr>\n",
       "      <th>23</th>\n",
       "      <td>336229829</td>\n",
       "      <td>1379833520370167809</td>\n",
       "      <td>2021-04-07 16:28:41</td>\n",
       "      <td>ALERT! Glendale Baptist Church in #SouthDade SW 117th Ave is scheduling appointments today to administer the #JohnsonandJohnson  #COVID19 vaccine tomorrow, April 8, 2021.  You will need to call the church today, to schedule an appointment.  Call 305-233-6435.</td>\n",
       "      <td>4</td>\n",
       "      <td>0</td>\n",
       "      <td>7</td>\n",
       "      <td>1</td>\n",
       "      <td>Marlon A. Hill</td>\n",
       "      <td>MarlonAHill</td>\n",
       "      <td>Miami, Florida</td>\n",
       "      <td>Business/Govt Lawyer @wsh_law | @FSU Alum | KAPsi♦️| @miamifoundation Fellow |🙋🏽‍♂️Advocate | 🤔Strategist | #WSHCBLaw 🇯🇲🇺🇸</td>\n",
       "      <td>2011-07-15 23:26:10</td>\n",
       "      <td>7424</td>\n",
       "      <td>5658</td>\n",
       "      <td>36952</td>\n",
       "    </tr>\n",
       "    <tr>\n",
       "      <th>26</th>\n",
       "      <td>765342368417677312</td>\n",
       "      <td>1379820577553285121</td>\n",
       "      <td>2021-04-07 15:37:16</td>\n",
       "      <td>Does anyone else feel like picking what covid shot you are going to get has the same energy as picking what team you wanted to be when Pokémon Go started up? #PokemonGo #Moderna #Pfizer #johnsonandjohnson</td>\n",
       "      <td>0</td>\n",
       "      <td>0</td>\n",
       "      <td>1</td>\n",
       "      <td>0</td>\n",
       "      <td>Kayla⛈</td>\n",
       "      <td>kaylamck_wx</td>\n",
       "      <td>Ohio, USA</td>\n",
       "      <td>Storm chaser, Stringer for Live Storms Media (@livestormsmedia), amateur photographer, admirer of sunsets and nature. Views are my own. #ohwx</td>\n",
       "      <td>2016-08-16 00:20:14</td>\n",
       "      <td>1037</td>\n",
       "      <td>658</td>\n",
       "      <td>21233</td>\n",
       "    </tr>\n",
       "    <tr>\n",
       "      <th>28</th>\n",
       "      <td>248914097</td>\n",
       "      <td>1379814794220466177</td>\n",
       "      <td>2021-04-07 15:14:17</td>\n",
       "      <td>Was happy to see that the area @riteaid was giving out the Covid shot. Was a bit surprised when I was asked to disrobe upon entry, but it is what it is 🤷‍♂️ #vaccinated #covidshot #johnsonandjohnson #oneanddone</td>\n",
       "      <td>0</td>\n",
       "      <td>0</td>\n",
       "      <td>0</td>\n",
       "      <td>0</td>\n",
       "      <td>Tigman</td>\n",
       "      <td>radiotigman</td>\n",
       "      <td>Poughkeepsie, NY</td>\n",
       "      <td>Former weekday afternoon host 2-7pm at Z93 (93.3FM) Poughkeepsie</td>\n",
       "      <td>2011-02-08 00:07:16</td>\n",
       "      <td>1144</td>\n",
       "      <td>1820</td>\n",
       "      <td>5650</td>\n",
       "    </tr>\n",
       "    <tr>\n",
       "      <th>30</th>\n",
       "      <td>479398450</td>\n",
       "      <td>1379799341888634880</td>\n",
       "      <td>2021-04-07 14:12:53</td>\n",
       "      <td>European countries may have to mix COVID-19 #shots amid #AstraZeneca crisis https://t.co/ntfDn2bnxk #Covid_19 #vaccine #vaccination #Norway #Germany #Pfizer #Moderna #economy #growth #euro #vials #Paris #France #citizens #health #dollar #Italy #JohnsonandJohnson #markets #fx</td>\n",
       "      <td>0</td>\n",
       "      <td>0</td>\n",
       "      <td>0</td>\n",
       "      <td>0</td>\n",
       "      <td>Marco Vergari</td>\n",
       "      <td>marco_vrg</td>\n",
       "      <td>Ravenna , Italy</td>\n",
       "      <td>Financial consultant  interested in financial mkts, hedge funds, #assetmanagement , #tech, #SRI, #ESG , former financial reporter, CAIA charthldr</td>\n",
       "      <td>2012-01-31 10:22:44</td>\n",
       "      <td>13535</td>\n",
       "      <td>13356</td>\n",
       "      <td>6203</td>\n",
       "    </tr>\n",
       "    <tr>\n",
       "      <th>32</th>\n",
       "      <td>34279982</td>\n",
       "      <td>1379780447329153029</td>\n",
       "      <td>2021-04-07 12:57:48</td>\n",
       "      <td>FEELING MUCH BETTER TODAY after Monday's second #Moderna shot. Arm soreness is mostly gone now. How very fortunate I am to be fully vaccinated now. Everyone in #Colorado over 16 is now eligible to receive the #COVID19 #vaccines. #Pfizer #JohnsonandJohnson #coronavirus #MaskUp https://t.co/7IUkpck6RJ</td>\n",
       "      <td>0</td>\n",
       "      <td>0</td>\n",
       "      <td>1</td>\n",
       "      <td>0</td>\n",
       "      <td>Critical Mass</td>\n",
       "      <td>torqueflite</td>\n",
       "      <td>Colorado, USA</td>\n",
       "      <td>Cartoonist, Historian, Social Critic, Communicator</td>\n",
       "      <td>2009-04-22 14:06:07</td>\n",
       "      <td>1348</td>\n",
       "      <td>2722</td>\n",
       "      <td>59623</td>\n",
       "    </tr>\n",
       "    <tr>\n",
       "      <th>40</th>\n",
       "      <td>84503659</td>\n",
       "      <td>1379664131037532161</td>\n",
       "      <td>2021-04-07 05:15:36</td>\n",
       "      <td>[ON AIR] when will you get your #COVID19 jab? @miamalan - Founding editor-in-chief of @bhekisisa_MG on #SAfmSunrise with @StephenGrootes #JohnsonandJohnson #Pfizer #sabcnews https://t.co/KrUcIiFNCj</td>\n",
       "      <td>3</td>\n",
       "      <td>2</td>\n",
       "      <td>1</td>\n",
       "      <td>0</td>\n",
       "      <td>SAfmRadio 📻</td>\n",
       "      <td>SAfmRadio</td>\n",
       "      <td>South Africa</td>\n",
       "      <td>SA's only national news and talk radio station. Leading the nation's conversation. The more you listen, the more you'll know. 104-107 FM Across Mzansi</td>\n",
       "      <td>2009-10-23 04:21:02</td>\n",
       "      <td>206864</td>\n",
       "      <td>2648</td>\n",
       "      <td>162041</td>\n",
       "    </tr>\n",
       "    <tr>\n",
       "      <th>44</th>\n",
       "      <td>31419286</td>\n",
       "      <td>1379637474515771392</td>\n",
       "      <td>2021-04-07 03:29:41</td>\n",
       "      <td>I’m pfeeling pfantastic! #yayvaccines #COVID #pfizer #moderna #JohnsonandJohnson #AstraZeneca</td>\n",
       "      <td>0</td>\n",
       "      <td>0</td>\n",
       "      <td>12</td>\n",
       "      <td>0</td>\n",
       "      <td>Kelly Rawlings, MPH</td>\n",
       "      <td>KellyRawlings</td>\n",
       "      <td>Vancouver, BC / Iowa</td>\n",
       "      <td>1st-person worder • public health • digital therapeutics • health comms • diabetes • #BlüntLancet • gardener • #NarrowAcres • she/her • posts=my own</td>\n",
       "      <td>2009-04-15 14:28:00</td>\n",
       "      <td>15281</td>\n",
       "      <td>12489</td>\n",
       "      <td>40465</td>\n",
       "    </tr>\n",
       "    <tr>\n",
       "      <th>45</th>\n",
       "      <td>27323975</td>\n",
       "      <td>1379635409571958787</td>\n",
       "      <td>2021-04-07 03:21:28</td>\n",
       "      <td>One &amp;amp; Done. #grateful #vaccinated  #JohnsonandJohnson #COVID19 #vaccines #stopCOVID https://t.co/04aJwVW8sD</td>\n",
       "      <td>0</td>\n",
       "      <td>0</td>\n",
       "      <td>5</td>\n",
       "      <td>0</td>\n",
       "      <td>Angela Jacobs WFTV</td>\n",
       "      <td>AngelaJacobsTV</td>\n",
       "      <td>Orlando, FL</td>\n",
       "      <td>2x Emmy Winner @WFTV Reporter🎤 Sports Anchor alum ⚾️ 🏈 Cancer Survivor 💗 RTs 🚫 endorsements / Story idea?angela.jacobs@wftv.com @Insta @AngelaJacobsWFTV</td>\n",
       "      <td>2009-03-28 22:33:26</td>\n",
       "      <td>2006</td>\n",
       "      <td>802</td>\n",
       "      <td>9460</td>\n",
       "    </tr>\n",
       "    <tr>\n",
       "      <th>48</th>\n",
       "      <td>1296251323</td>\n",
       "      <td>1379616784081244163</td>\n",
       "      <td>2021-04-07 02:07:28</td>\n",
       "      <td>Alamedans 65+/disability/medical condition needing a #vaccine we will have a vaccination clinic Saturday, April 17 at Mastick Senior Center. It’s by appointment only - please call and reserve your spot by this Saturday by calling 510-747-7512 #alamtg #COVID19 #JohnsonandJohnson</td>\n",
       "      <td>8</td>\n",
       "      <td>1</td>\n",
       "      <td>18</td>\n",
       "      <td>0</td>\n",
       "      <td>Malia Vella</td>\n",
       "      <td>Malia_Vella</td>\n",
       "      <td>Alameda, CA</td>\n",
       "      <td>Candidate for CA Assembly, mom of 2👶🏻, @CityofAlameda Vice Mayor, @alameda_homes Director, @Wellesley, @Teamsters ✊🏽lawyer, Educator, &amp; Pragmatic Optimist.</td>\n",
       "      <td>2013-03-24 18:44:59</td>\n",
       "      <td>1185</td>\n",
       "      <td>475</td>\n",
       "      <td>2728</td>\n",
       "    </tr>\n",
       "    <tr>\n",
       "      <th>51</th>\n",
       "      <td>790546093</td>\n",
       "      <td>1379591029029023747</td>\n",
       "      <td>2021-04-07 00:25:07</td>\n",
       "      <td>Never mentioned here by reporters @ChrisDHamby, @SharonLNYT, or @SherylNYT - the word \"#Obama,\" under whose admin this project was launched &amp;amp; for years dragged on:  https://t.co/BqIGOfpTQb #vaccines #JohnsonandJohnson #AstraZenaca #mediabias? #MSM #CCPVirus #COVID19 #Corona</td>\n",
       "      <td>0</td>\n",
       "      <td>0</td>\n",
       "      <td>0</td>\n",
       "      <td>0</td>\n",
       "      <td>(((Alan Tonelson)))</td>\n",
       "      <td>AlanTonelson</td>\n",
       "      <td>Riverdale Park, MD</td>\n",
       "      <td>Founder of RealityChek - a blog covering economics, national security, tech, &amp; their intersections. Also checking in regularly on the general human condition.</td>\n",
       "      <td>2012-08-30 01:27:25</td>\n",
       "      <td>4999</td>\n",
       "      <td>977</td>\n",
       "      <td>94261</td>\n",
       "    </tr>\n",
       "  </tbody>\n",
       "</table>\n",
       "</div>"
      ],
      "text/plain": [
       "             author id             tweet id    tweet created at  \\\n",
       "3           1353222852  1379880773491232770 2021-04-07 19:36:28   \n",
       "5            484882506  1379877798039457795 2021-04-07 19:24:38   \n",
       "10            32135940  1379872327492640771 2021-04-07 19:02:54   \n",
       "11            32135940  1379843720254734338 2021-04-07 17:09:13   \n",
       "12            32135940  1379790923782033411 2021-04-07 13:39:26   \n",
       "15           317624806  1379859669691285518 2021-04-07 18:12:36   \n",
       "16            49873766  1379857664461639685 2021-04-07 18:04:38   \n",
       "18            20457806  1379856610068205577 2021-04-07 18:00:26   \n",
       "21           119084466  1379837273953472517 2021-04-07 16:43:36   \n",
       "23           336229829  1379833520370167809 2021-04-07 16:28:41   \n",
       "26  765342368417677312  1379820577553285121 2021-04-07 15:37:16   \n",
       "28           248914097  1379814794220466177 2021-04-07 15:14:17   \n",
       "30           479398450  1379799341888634880 2021-04-07 14:12:53   \n",
       "32            34279982  1379780447329153029 2021-04-07 12:57:48   \n",
       "40            84503659  1379664131037532161 2021-04-07 05:15:36   \n",
       "44            31419286  1379637474515771392 2021-04-07 03:29:41   \n",
       "45            27323975  1379635409571958787 2021-04-07 03:21:28   \n",
       "48          1296251323  1379616784081244163 2021-04-07 02:07:28   \n",
       "51           790546093  1379591029029023747 2021-04-07 00:25:07   \n",
       "\n",
       "                                                                                                                                                                                                                                                                                                             tweet text  \\\n",
       "3                                                                                                         #Hialeah secures partnership to distribute #Moderna #CovidVaccine as #FEMA sites move to only offer #JohnsonandJohnson @ADelgadoT51 @Telemundo51 #vaccinenews https://t.co/2Ol9hBzXqz https://t.co/dlgHOlgjAq   \n",
       "5   Today, the Corpus Christi - Nueces County Public Health District will administer 1,000 #JohnsonAndJohnson COVID-19 vaccines beginning at 9 AM at the Richard M. Borchard Regional Fairgrounds. 1st &amp; 2nd doses of #Moderna vaccines are also available 9 AM-5 PM. Drop-ins are welcome. https://t.co/bvH1Xb2BlK   \n",
       "10                                                                                           2:00 PM Update: There are still Johnson &amp; Johnson COVID-19 vaccines available for those 18 and up. Drop-ins are welcome. No appointment needed. #JohnsonandJohnson #COVID19Vaccine #OneAndDone https://t.co/iDvtcBhjdh   \n",
       "11                             12:00 PM Update: There are still #JohnsonAndJohnson COVID-19 vaccines available. Drop-ins are welcome. No appointment needed. #OneAndDone\\n\\nWe also still have the #Moderna COVID-19 vaccine available. If it's been 28 days since your 1st dose, head on over! https://t.co/iDvtcBhjdh   \n",
       "12  Today, the Corpus Christi - Nueces County Public Health District will administer 1,000 #JohnsonAndJohnson COVID-19 vaccines beginning at 9 AM at the Richard M. Borchard Regional Fairgrounds. 1st &amp; 2nd doses of #Moderna vaccines are also available 9 AM-5 PM. Drop-ins are welcome. https://t.co/5xM2kLImbW   \n",
       "15                                                              I didn't throw away my shot. One and done. For those like me in Group 5 who became eligible today, the @DukeHealth system has lots of #JohnsonandJohnson #vaccine appointments this week and beyond.\\n\\n#GetVaccinated #COVID19 https://t.co/zh9H6abGYc   \n",
       "16                                                                                                                                                                                                              One and done.    💉 \\n\\n#vaccine #covid #covid19 #jnj #jj #janssen #백신 #CVS #USA https://t.co/gqpf8LKOIB   \n",
       "18       \"I'm a Johns Hopkins-trained epidemiologist, and I couldn't even navigate the system.\"—Dr. Debra Furr-Holden on her personal experience with racial discrepancies during #COVID19. See how #JNJ is mobilizing to address inequities like this: https://t.co/XoqIcj5qzR #WorldHealthDay https://t.co/3AYXF0UWLT   \n",
       "21                                                                               How do the Pfizer, Moderna and J&amp;J vaccines compare on efficacy and side effects? https://t.co/aLKjvaJxTr\\n\\n#vaccine #covidvaccine #covid19 #pfizer #moderna #jandj #johnsonandjohnson #sideeffects #efficacy #vaccinesideeffects   \n",
       "23                                                  ALERT! Glendale Baptist Church in #SouthDade SW 117th Ave is scheduling appointments today to administer the #JohnsonandJohnson  #COVID19 vaccine tomorrow, April 8, 2021.  You will need to call the church today, to schedule an appointment.  Call 305-233-6435.   \n",
       "26                                                                                                         Does anyone else feel like picking what covid shot you are going to get has the same energy as picking what team you wanted to be when Pokémon Go started up? #PokemonGo #Moderna #Pfizer #johnsonandjohnson   \n",
       "28                                                                                                   Was happy to see that the area @riteaid was giving out the Covid shot. Was a bit surprised when I was asked to disrobe upon entry, but it is what it is 🤷‍♂️ #vaccinated #covidshot #johnsonandjohnson #oneanddone   \n",
       "30                                  European countries may have to mix COVID-19 #shots amid #AstraZeneca crisis https://t.co/ntfDn2bnxk #Covid_19 #vaccine #vaccination #Norway #Germany #Pfizer #Moderna #economy #growth #euro #vials #Paris #France #citizens #health #dollar #Italy #JohnsonandJohnson #markets #fx   \n",
       "32         FEELING MUCH BETTER TODAY after Monday's second #Moderna shot. Arm soreness is mostly gone now. How very fortunate I am to be fully vaccinated now. Everyone in #Colorado over 16 is now eligible to receive the #COVID19 #vaccines. #Pfizer #JohnsonandJohnson #coronavirus #MaskUp https://t.co/7IUkpck6RJ   \n",
       "40                                                                                                                [ON AIR] when will you get your #COVID19 jab? @miamalan - Founding editor-in-chief of @bhekisisa_MG on #SAfmSunrise with @StephenGrootes #JohnsonandJohnson #Pfizer #sabcnews https://t.co/KrUcIiFNCj   \n",
       "44                                                                                                                                                                                                                        I’m pfeeling pfantastic! #yayvaccines #COVID #pfizer #moderna #JohnsonandJohnson #AstraZeneca   \n",
       "45                                                                                                                                                                                                      One &amp; Done. #grateful #vaccinated  #JohnsonandJohnson #COVID19 #vaccines #stopCOVID https://t.co/04aJwVW8sD   \n",
       "48                               Alamedans 65+/disability/medical condition needing a #vaccine we will have a vaccination clinic Saturday, April 17 at Mastick Senior Center. It’s by appointment only - please call and reserve your spot by this Saturday by calling 510-747-7512 #alamtg #COVID19 #JohnsonandJohnson   \n",
       "51                               Never mentioned here by reporters @ChrisDHamby, @SharonLNYT, or @SherylNYT - the word \"#Obama,\" under whose admin this project was launched &amp; for years dragged on:  https://t.co/BqIGOfpTQb #vaccines #JohnsonandJohnson #AstraZenaca #mediabias? #MSM #CCPVirus #COVID19 #Corona   \n",
       "\n",
       "    retweet count  reply count  like count  quote count  \\\n",
       "3               0            0           0            0   \n",
       "5               0            0           0            0   \n",
       "10              5            0           9            0   \n",
       "11              4            0           4            0   \n",
       "12              9            0           5            2   \n",
       "15              0            0           1            0   \n",
       "16              0            0           0            0   \n",
       "18              7            9          29            2   \n",
       "21              0            0           1            0   \n",
       "23              4            0           7            1   \n",
       "26              0            0           1            0   \n",
       "28              0            0           0            0   \n",
       "30              0            0           0            0   \n",
       "32              0            0           1            0   \n",
       "40              3            2           1            0   \n",
       "44              0            0          12            0   \n",
       "45              0            0           5            0   \n",
       "48              8            1          18            0   \n",
       "51              0            0           0            0   \n",
       "\n",
       "                      name        username              location  \\\n",
       "3               JRodriguez        JRodzMIA                 MIAFL   \n",
       "5          CC Public Works   PublicWorksCC    Corpus Christi, TX   \n",
       "10  City of Corpus Christi        cityofcc    Corpus Christi, TX   \n",
       "11  City of Corpus Christi        cityofcc    Corpus Christi, TX   \n",
       "12  City of Corpus Christi        cityofcc    Corpus Christi, TX   \n",
       "15          Dustin Ingalls  punstiningalls           Raleigh, NC   \n",
       "16            Richard Ward       zeampzpvy   플로리다 (Florida, USA)   \n",
       "18       Johnson & Johnson         JNJNews                    NA   \n",
       "21         ConsumerLab.com     ConsumerLab              New York   \n",
       "23          Marlon A. Hill     MarlonAHill        Miami, Florida   \n",
       "26                  Kayla⛈     kaylamck_wx             Ohio, USA   \n",
       "28                  Tigman     radiotigman      Poughkeepsie, NY   \n",
       "30           Marco Vergari       marco_vrg       Ravenna , Italy   \n",
       "32           Critical Mass     torqueflite         Colorado, USA   \n",
       "40             SAfmRadio 📻       SAfmRadio          South Africa   \n",
       "44     Kelly Rawlings, MPH   KellyRawlings  Vancouver, BC / Iowa   \n",
       "45      Angela Jacobs WFTV  AngelaJacobsTV           Orlando, FL   \n",
       "48             Malia Vella     Malia_Vella           Alameda, CA   \n",
       "51     (((Alan Tonelson)))    AlanTonelson   Riverdale Park, MD    \n",
       "\n",
       "                                                                                                                                                       description  \\\n",
       "3                                                                                               Senior Assignment Editor @Telemundo51 ... RTs are not endorsements   \n",
       "5                                                       The official page for the City of Corpus Christi's Engineering Services and Street Operations departments.   \n",
       "10                                                                                                           Official Twitter page for the City of Corpus Christi.   \n",
       "11                                                                                                           Official Twitter page for the City of Corpus Christi.   \n",
       "12                                                                                                           Official Twitter page for the City of Corpus Christi.   \n",
       "15                            UNC '07. Native upstate NYer living in Raleigh over 26 years. Puns. Politics. Yankees ⚾. KISS. Musicals. Bloody marys. @nclcv comms.   \n",
       "16                                                Performing magic in the cloud as executive editor @ ReadLeft. Author, scientist, hacker. I'm big in Korea ZE스앰프.   \n",
       "18    At Johnson & Johnson, we blend heart, science and ingenuity to profoundly change the trajectory of health for humanity. Follow us to learn more and connect.   \n",
       "21                                                                                 http://t.co/1baEDHXNkR reports on the quality of health and nutrition products.   \n",
       "23                                      Business/Govt Lawyer @wsh_law | @FSU Alum | KAPsi♦️| @miamifoundation Fellow |🙋🏽‍♂️Advocate | 🤔Strategist | #WSHCBLaw 🇯🇲🇺🇸   \n",
       "26                   Storm chaser, Stringer for Live Storms Media (@livestormsmedia), amateur photographer, admirer of sunsets and nature. Views are my own. #ohwx   \n",
       "28                                                                                                Former weekday afternoon host 2-7pm at Z93 (93.3FM) Poughkeepsie   \n",
       "30               Financial consultant  interested in financial mkts, hedge funds, #assetmanagement , #tech, #SRI, #ESG , former financial reporter, CAIA charthldr   \n",
       "32                                                                                                              Cartoonist, Historian, Social Critic, Communicator   \n",
       "40          SA's only national news and talk radio station. Leading the nation's conversation. The more you listen, the more you'll know. 104-107 FM Across Mzansi   \n",
       "44            1st-person worder • public health • digital therapeutics • health comms • diabetes • #BlüntLancet • gardener • #NarrowAcres • she/her • posts=my own   \n",
       "45        2x Emmy Winner @WFTV Reporter🎤 Sports Anchor alum ⚾️ 🏈 Cancer Survivor 💗 RTs 🚫 endorsements / Story idea?angela.jacobs@wftv.com @Insta @AngelaJacobsWFTV   \n",
       "48     Candidate for CA Assembly, mom of 2👶🏻, @CityofAlameda Vice Mayor, @alameda_homes Director, @Wellesley, @Teamsters ✊🏽lawyer, Educator, & Pragmatic Optimist.   \n",
       "51  Founder of RealityChek - a blog covering economics, national security, tech, & their intersections. Also checking in regularly on the general human condition.   \n",
       "\n",
       "    account created at  followers count  following count  tweet count  \n",
       "3  2013-04-15 02:11:21             1268              738        12418  \n",
       "5  2012-02-06 16:02:31             1651               56         2401  \n",
       "10 2009-04-16 20:15:21            20220              268        16770  \n",
       "11 2009-04-16 20:15:21            20220              268        16770  \n",
       "12 2009-04-16 20:15:21            20220              268        16770  \n",
       "15 2011-06-15 06:37:05             1017              951        14787  \n",
       "16 2009-06-23 03:39:59             1526              958        11811  \n",
       "18 2009-02-09 19:12:13           232043             2467        14738  \n",
       "21 2010-03-02 16:36:29             2880               79         2370  \n",
       "23 2011-07-15 23:26:10             7424             5658        36952  \n",
       "26 2016-08-16 00:20:14             1037              658        21233  \n",
       "28 2011-02-08 00:07:16             1144             1820         5650  \n",
       "30 2012-01-31 10:22:44            13535            13356         6203  \n",
       "32 2009-04-22 14:06:07             1348             2722        59623  \n",
       "40 2009-10-23 04:21:02           206864             2648       162041  \n",
       "44 2009-04-15 14:28:00            15281            12489        40465  \n",
       "45 2009-03-28 22:33:26             2006              802         9460  \n",
       "48 2013-03-24 18:44:59             1185              475         2728  \n",
       "51 2012-08-30 01:27:25             4999              977        94261  "
      ]
     },
     "execution_count": 17,
     "metadata": {
      "tags": []
     },
     "output_type": "execute_result"
    }
   ],
   "source": [
    "#only look at data from users with a large following (set to 1000+ followers)\n",
    "large_following = jnj_df['followers count'] >= 1000\n",
    "jnj_df[large_following]"
   ]
  },
  {
   "cell_type": "code",
   "execution_count": null,
   "metadata": {
    "colab": {
     "base_uri": "https://localhost:8080/",
     "height": 232
    },
    "id": "ELPO0KUjpaB1",
    "outputId": "12c96f06-43e9-423c-cc59-3d72acfda4e2"
   },
   "outputs": [
    {
     "data": {
      "text/html": [
       "<div>\n",
       "<style scoped>\n",
       "    .dataframe tbody tr th:only-of-type {\n",
       "        vertical-align: middle;\n",
       "    }\n",
       "\n",
       "    .dataframe tbody tr th {\n",
       "        vertical-align: top;\n",
       "    }\n",
       "\n",
       "    .dataframe thead th {\n",
       "        text-align: right;\n",
       "    }\n",
       "</style>\n",
       "<table border=\"1\" class=\"dataframe\">\n",
       "  <thead>\n",
       "    <tr style=\"text-align: right;\">\n",
       "      <th></th>\n",
       "      <th>author id</th>\n",
       "      <th>tweet id</th>\n",
       "      <th>tweet created at</th>\n",
       "      <th>tweet text</th>\n",
       "      <th>retweet count</th>\n",
       "      <th>reply count</th>\n",
       "      <th>like count</th>\n",
       "      <th>quote count</th>\n",
       "      <th>name</th>\n",
       "      <th>username</th>\n",
       "      <th>location</th>\n",
       "      <th>description</th>\n",
       "      <th>account created at</th>\n",
       "      <th>followers count</th>\n",
       "      <th>following count</th>\n",
       "      <th>tweet count</th>\n",
       "    </tr>\n",
       "  </thead>\n",
       "  <tbody>\n",
       "    <tr>\n",
       "      <th>18</th>\n",
       "      <td>20457806</td>\n",
       "      <td>1379856610068205577</td>\n",
       "      <td>2021-04-07 18:00:26</td>\n",
       "      <td>\"I'm a Johns Hopkins-trained epidemiologist, and I couldn't even navigate the system.\"—Dr. Debra Furr-Holden on her personal experience with racial discrepancies during #COVID19. See how #JNJ is mobilizing to address inequities like this: https://t.co/XoqIcj5qzR #WorldHealthDay https://t.co/3AYXF0UWLT</td>\n",
       "      <td>7</td>\n",
       "      <td>9</td>\n",
       "      <td>29</td>\n",
       "      <td>2</td>\n",
       "      <td>Johnson &amp; Johnson</td>\n",
       "      <td>JNJNews</td>\n",
       "      <td>NA</td>\n",
       "      <td>At Johnson &amp; Johnson, we blend heart, science and ingenuity to profoundly change the trajectory of health for humanity. Follow us to learn more and connect.</td>\n",
       "      <td>2009-02-09 19:12:13</td>\n",
       "      <td>232043</td>\n",
       "      <td>2467</td>\n",
       "      <td>14738</td>\n",
       "    </tr>\n",
       "    <tr>\n",
       "      <th>44</th>\n",
       "      <td>31419286</td>\n",
       "      <td>1379637474515771392</td>\n",
       "      <td>2021-04-07 03:29:41</td>\n",
       "      <td>I’m pfeeling pfantastic! #yayvaccines #COVID #pfizer #moderna #JohnsonandJohnson #AstraZeneca</td>\n",
       "      <td>0</td>\n",
       "      <td>0</td>\n",
       "      <td>12</td>\n",
       "      <td>0</td>\n",
       "      <td>Kelly Rawlings, MPH</td>\n",
       "      <td>KellyRawlings</td>\n",
       "      <td>Vancouver, BC / Iowa</td>\n",
       "      <td>1st-person worder • public health • digital therapeutics • health comms • diabetes • #BlüntLancet • gardener • #NarrowAcres • she/her • posts=my own</td>\n",
       "      <td>2009-04-15 14:28:00</td>\n",
       "      <td>15281</td>\n",
       "      <td>12489</td>\n",
       "      <td>40465</td>\n",
       "    </tr>\n",
       "    <tr>\n",
       "      <th>48</th>\n",
       "      <td>1296251323</td>\n",
       "      <td>1379616784081244163</td>\n",
       "      <td>2021-04-07 02:07:28</td>\n",
       "      <td>Alamedans 65+/disability/medical condition needing a #vaccine we will have a vaccination clinic Saturday, April 17 at Mastick Senior Center. It’s by appointment only - please call and reserve your spot by this Saturday by calling 510-747-7512 #alamtg #COVID19 #JohnsonandJohnson</td>\n",
       "      <td>8</td>\n",
       "      <td>1</td>\n",
       "      <td>18</td>\n",
       "      <td>0</td>\n",
       "      <td>Malia Vella</td>\n",
       "      <td>Malia_Vella</td>\n",
       "      <td>Alameda, CA</td>\n",
       "      <td>Candidate for CA Assembly, mom of 2👶🏻, @CityofAlameda Vice Mayor, @alameda_homes Director, @Wellesley, @Teamsters ✊🏽lawyer, Educator, &amp; Pragmatic Optimist.</td>\n",
       "      <td>2013-03-24 18:44:59</td>\n",
       "      <td>1185</td>\n",
       "      <td>475</td>\n",
       "      <td>2728</td>\n",
       "    </tr>\n",
       "  </tbody>\n",
       "</table>\n",
       "</div>"
      ],
      "text/plain": [
       "     author id             tweet id    tweet created at  \\\n",
       "18    20457806  1379856610068205577 2021-04-07 18:00:26   \n",
       "44    31419286  1379637474515771392 2021-04-07 03:29:41   \n",
       "48  1296251323  1379616784081244163 2021-04-07 02:07:28   \n",
       "\n",
       "                                                                                                                                                                                                                                                                                                        tweet text  \\\n",
       "18  \"I'm a Johns Hopkins-trained epidemiologist, and I couldn't even navigate the system.\"—Dr. Debra Furr-Holden on her personal experience with racial discrepancies during #COVID19. See how #JNJ is mobilizing to address inequities like this: https://t.co/XoqIcj5qzR #WorldHealthDay https://t.co/3AYXF0UWLT   \n",
       "44                                                                                                                                                                                                                   I’m pfeeling pfantastic! #yayvaccines #COVID #pfizer #moderna #JohnsonandJohnson #AstraZeneca   \n",
       "48                          Alamedans 65+/disability/medical condition needing a #vaccine we will have a vaccination clinic Saturday, April 17 at Mastick Senior Center. It’s by appointment only - please call and reserve your spot by this Saturday by calling 510-747-7512 #alamtg #COVID19 #JohnsonandJohnson   \n",
       "\n",
       "    retweet count  reply count  like count  quote count                 name  \\\n",
       "18              7            9          29            2    Johnson & Johnson   \n",
       "44              0            0          12            0  Kelly Rawlings, MPH   \n",
       "48              8            1          18            0          Malia Vella   \n",
       "\n",
       "         username              location  \\\n",
       "18        JNJNews                    NA   \n",
       "44  KellyRawlings  Vancouver, BC / Iowa   \n",
       "48    Malia_Vella           Alameda, CA   \n",
       "\n",
       "                                                                                                                                                     description  \\\n",
       "18  At Johnson & Johnson, we blend heart, science and ingenuity to profoundly change the trajectory of health for humanity. Follow us to learn more and connect.   \n",
       "44          1st-person worder • public health • digital therapeutics • health comms • diabetes • #BlüntLancet • gardener • #NarrowAcres • she/her • posts=my own   \n",
       "48   Candidate for CA Assembly, mom of 2👶🏻, @CityofAlameda Vice Mayor, @alameda_homes Director, @Wellesley, @Teamsters ✊🏽lawyer, Educator, & Pragmatic Optimist.   \n",
       "\n",
       "    account created at  followers count  following count  tweet count  \n",
       "18 2009-02-09 19:12:13           232043             2467        14738  \n",
       "44 2009-04-15 14:28:00            15281            12489        40465  \n",
       "48 2013-03-24 18:44:59             1185              475         2728  "
      ]
     },
     "execution_count": 19,
     "metadata": {
      "tags": []
     },
     "output_type": "execute_result"
    }
   ],
   "source": [
    "#only look at data from users with a large following (1,000+ followers) and whose tweet received high engagement (10+ likes)\n",
    "jnj_df_large_high = jnj_df[(jnj_df['like count'] >= 10) & (jnj_df['followers count'] >= 1000)] \n",
    "jnj_df_large_high"
   ]
  },
  {
   "cell_type": "markdown",
   "metadata": {
    "id": "2rfcs_buotap"
   },
   "source": [
    "### Find where users are located\n"
   ]
  },
  {
   "cell_type": "code",
   "execution_count": null,
   "metadata": {
    "id": "JHedkUTOpaB3",
    "outputId": "39199bf7-77d3-4c6f-a2f4-410c54c63a2f"
   },
   "outputs": [
    {
     "data": {
      "text/plain": [
       "array(['Kansas City', 'Los Alamos, NM', 'Inside your PC monitor', 'MIAFL',\n",
       "       'NA', 'Corpus Christi, TX', 'Charlotte, NC', 'Flint, Michigan',\n",
       "       'Nueces County, TX', 'Santa Maria, CA', 'Raleigh, NC',\n",
       "       '플로리다 (Florida, USA)', 'São José dos Campos - SP',\n",
       "       'MA/NH/VT 🇺🇸also 🇬🇧🇨🇭', 'Hong Kong', 'New York', 'Tiffin, OH',\n",
       "       'Miami, Florida', 'Fort Worth, TX', 'Ohio, USA',\n",
       "       'Hoffman Estates, IL', 'Poughkeepsie, NY', 'Ravenna , Italy',\n",
       "       'Colorado, USA', 'TN, KY, MS, LA and IN 📍', 'Nigeria',\n",
       "       'Winter Haven, FL', ' New Delhi !India', 'India', 'South Africa',\n",
       "       'Florida, USA', 'Vancouver, BC / Iowa', 'Orlando, FL', 'Singapore',\n",
       "       'stony brook, ny', 'Alameda, CA', 'Long Beach, CA',\n",
       "       'Michigan, USA', 'Riverdale Park, MD ', 'Lewiston, ME'],\n",
       "      dtype=object)"
      ]
     },
     "execution_count": 18,
     "metadata": {
      "tags": []
     },
     "output_type": "execute_result"
    }
   ],
   "source": [
    "#find where users are located\n",
    "jnj_df['location'].unique()"
   ]
  },
  {
   "cell_type": "markdown",
   "metadata": {
    "id": "lBUgqIYU_CHy"
   },
   "source": [
    "## FUTURE OPPORTUNITIES TO EXPLORE THE DATASET\n",
    "\n",
    "-  Sentiment analysis\n",
    "  -  Sentiment analysis utilizes text analysis to systematically identify affective states of languages. The unique context of our dataset (i.e., including both pre- and post- of the Johnson and Johnson vaccine pause in the US) would allow the user to explore the differences in attitudes toward the vaccine between those two distinct periods. \n",
    "\n",
    "- Social Network Analysis\n",
    "  - Social Network Analysis is a technique to study social structures in terms of \"actors\" in the network and the \"links\" between the actors. In the context of our dataset, an actor could be considered as the users who posted the tweets, and the link between the actors could be conceptualized in a number of ways. For example, a link could be operationalized as a retweet. If actor B retweet a tweet from actor A, then there would be a link between the two. Users who are interested in how vaccine information is spread before/after the J&J vaccine pause may consider pursuing social network analysis.    \n",
    "\n",
    "\n"
   ]
  },
  {
   "cell_type": "markdown",
   "metadata": {
    "id": "LNVEnZwoopGK"
   },
   "source": [
    "## CHALLENGES: EXPERIENCED AND UPCOMING\n",
    "\n",
    "Originally, we set out to study tweets that spread misinformation about Covid-19 vaccines and the potential societal implications this can have. We wanted to identify characteristics of tweets that were reaching large audiences and causing hesitation and uncertainty surrounding the vaccine. We also wanted to identify any factors that could play into vaccine hesitancy for example maybe a specific age group is more likely to spread misinformation than others. Or perhaps a broadcasted news event sparked an influx of anti-vaccine related posts.\n",
    "\n",
    "However, due to the complexity of our target data, we decided to shift our focus. It is extremely difficult to parse text with all the possible language nuances that could interfere such as typos and slang. The most difficult hiderence to detect is probably sarcasm, which is a very common dialect on the Twitter platform. Many people tweeting about vaccine hesitancy are doing so as a joke for their audiences. These obstructions could greatly impact the validity of our dataset. \n",
    "\n",
    "As a result, we narrowed our focus to only look at data focused on the Johnson & Johnson vaccine and, specifically, only during the two weeks leading up to the temporary pause of distribution of this version of the vaccine. Secondly, our data aquisition was based on buzzwords and hashtags users feature in their tweets about Covid-19 and the Johnson & Johnson vaccine.\n",
    "\n",
    "Other challenges:\n",
    "\n",
    "*   Location data is self-identfied and optional for Twitter users. This makes it hard to accurately identify where users are located and limit the dataset to our target base of US residents to understand unique cultural / social implications. \n",
    "*   Identifying buzzwords and hashtags to track conversations about the Johnson & Johnson vaccine was a challenge. The list we came up with is not exhaustive and could be honed in the future.\n",
    "*   Originally, we had some difficulties pulling a large number of tweets on but, through trial and error, finetuned the code to retrieve around 10,000 tweets.\n",
    "\n",
    "\n",
    "\n",
    "\n",
    "\n",
    "\n"
   ]
  }
 ],
 "metadata": {
  "colab": {
   "collapsed_sections": [],
   "name": "CASK_Project_Dataset_and_Documentation_FINAL.ipynb",
   "provenance": [],
   "toc_visible": true
  },
  "kernelspec": {
   "display_name": "Python 3",
   "language": "python",
   "name": "python3"
  },
  "language_info": {
   "codemirror_mode": {
    "name": "ipython",
    "version": 3
   },
   "file_extension": ".py",
   "mimetype": "text/x-python",
   "name": "python",
   "nbconvert_exporter": "python",
   "pygments_lexer": "ipython3",
   "version": "3.8.5"
  }
 },
 "nbformat": 4,
 "nbformat_minor": 1
}
